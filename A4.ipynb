{
 "metadata": {
  "language_info": {
   "codemirror_mode": {
    "name": "ipython",
    "version": 3
   },
   "file_extension": ".py",
   "mimetype": "text/x-python",
   "name": "python",
   "nbconvert_exporter": "python",
   "pygments_lexer": "ipython3",
   "version": "3.9.0-final"
  },
  "orig_nbformat": 2,
  "kernelspec": {
   "name": "Python 3.9.0 64-bit",
   "display_name": "Python 3.9.0 64-bit",
   "metadata": {
    "interpreter": {
     "hash": "34a5e61d0de6734ff5a1d76ebde4780bb96cc04bcba29aabdb753ac111cd91e9"
    }
   }
  }
 },
 "nbformat": 4,
 "nbformat_minor": 2,
 "cells": [
  {
   "source": [
    "## DATA 512 Assignment 4: Final Project Preliminary Proposal\n",
    "### Natasha Halfin\n",
    "### November 5, 2020"
   ],
   "cell_type": "markdown",
   "metadata": {}
  },
  {
   "source": [
    "### Motivation and Problem Statement\n",
    "\n",
    "#### Question: what factors seem to be associated with countries with greater female participation in politics?\n",
    "\n",
    "Although women have gained greater visibility and position across industries, representation in the political realm remains low. When our political bodies reflect the consituents they represent, they are more likely to support policies that are beneficial for a diverse population. This is true for most marginalized groups, and is applicable to women. Political office is a particularly difficult role, so if there are barriers to entry, like lack of maternity leave, lower pay, etc, this may keep women from being able to pursue these types of positions, thus perpetuating a vicious cycle. I hope to uncover relationships that may show a positive association between broader gender parity indicators and representation of women in politics.\n",
    "\n"
   ],
   "cell_type": "markdown",
   "metadata": {}
  },
  {
   "source": [
    "### Data Selected for Analysis\n",
    "I plan to utilize several datasets from the OECD website database, specifically the following sources:  \n",
    "* Gender, Institutions and Development Database (GID-DB) 2014 (https://stats.oecd.org/Index.aspx?DataSetCode=GIDDB2019)\n",
    "* Gender, Institutions and Development Database (GID-DB) 2019 (https://stats.oecd.org/Index.aspx?DataSetCode=GIDDB2014)\n",
    "* Employment dataset (https://stats.oecd.org/Index.aspx?DataSetCode=GENDER_EMP)\n",
    "\n",
    "The GID-DB dataset contains country level information reflecting a spectrum of indicators associated with gender, including land ownership by women, violence against women, and women political representation. I am choosing to focus on the latter indicator primarily from this dataset. Within the Employment dataset, I plan to focus on the following indicators: share of employed population that is female, length of maternity leave, gender wage gap, share of female managers, and share of female seats on boards of publicly listed companies (at the country level).\n",
    "\n",
    "Terms and conditions for use of the data:\n",
    "http://www.oecd.org/termsandconditions/\n",
    "\n",
    "I can use the data freely as long I provide a citation. However, I need to confirm any additional restrictions or license requirements in instances where the OECD is reporting from 3rd party sources.\n",
    "\n",
    "The dataset I am using is suitable for my purposes because it contains datapoints across a variety of gender-related indicators for countries globally."
   ],
   "cell_type": "markdown",
   "metadata": {}
  },
  {
   "source": [
    "### Possible Unknowns/Dependencies \n",
    "The datapoints over time are not exactly comparable. This is likely because schema surveys or studies appear to change slightly over time. I may also find missing datapoints for some countries."
   ],
   "cell_type": "markdown",
   "metadata": {}
  }
 ]
}