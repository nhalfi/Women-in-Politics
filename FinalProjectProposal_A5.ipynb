{
 "metadata": {
  "language_info": {
   "codemirror_mode": {
    "name": "ipython",
    "version": 3
   },
   "file_extension": ".py",
   "mimetype": "text/x-python",
   "name": "python",
   "nbconvert_exporter": "python",
   "pygments_lexer": "ipython3",
   "version": "3.9.0-final"
  },
  "orig_nbformat": 2,
  "kernelspec": {
   "name": "Python 3.9.0 64-bit",
   "display_name": "Python 3.9.0 64-bit",
   "metadata": {
    "interpreter": {
     "hash": "34a5e61d0de6734ff5a1d76ebde4780bb96cc04bcba29aabdb753ac111cd91e9"
    }
   }
  }
 },
 "nbformat": 4,
 "nbformat_minor": 2,
 "cells": [
  {
   "source": [
    "## DATA 512 Assignment 5: Final Project Proposal\n",
    "### Natasha Halfin\n",
    "### November 12, 2020"
   ],
   "cell_type": "markdown",
   "metadata": {}
  },
  {
   "source": [
    "### Research Question: What factors are associated with countries with greater female representation in politics?\n",
    "### Hypothesis: Countries with better performance across key gender parity indicators are more likely to have greater representation of women in politics.\n"
   ],
   "cell_type": "markdown",
   "metadata": {}
  },
  {
   "source": [
    "### Motivation and Problem Statement\n",
    "Although women have gained greater visibility and position across industries, representation in the political realm remains low. It is only in this year that we have elected the first female Vice President to the White House in the US. When our political bodies reflect the consituents they represent, they are more likely to support policies that are beneficial for a diverse population. Therefore, it is critical to understand why female political representation remains low in many countries. Political office is a particularly difficult role that presents more challenges than the typical occupation. Hence, if there are barriers to entry, like lack of maternity leave, lower pay, etc., this may keep women from being able to pursue these types of positions, further perpetuating a vicious cycle. Through this analysis, I hope to uncover relationships that may show a positive association between broader gender parity indicators and representation of women in politics."
   ],
   "cell_type": "markdown",
   "metadata": {}
  },
  {
   "source": [
    "### Data Selected for Analysis\n",
    "I plan to utilize several datasets from the OECD website database, specifically the following sources:  \n",
    "* Gender, Institutions and Development Database (GID-DB) 2014 (https://stats.oecd.org/Index.aspx?DataSetCode=GIDDB2019)\n",
    "* Gender, Institutions and Development Database (GID-DB) 2019 (https://stats.oecd.org/Index.aspx?DataSetCode=GIDDB2014)\n",
    "* Employment dataset (https://stats.oecd.org/Index.aspx?DataSetCode=GENDER_EMP)\n",
    "\n",
    "The GID-DB dataset contains country level information reflecting a spectrum of indicators associated with gender, including land ownership by women, violence against women, and women political representation. I am choosing to focus on the latter indicator primarily from this dataset. Within the Employment dataset, I plan to focus on the following indicators: share of employed population that is female, length of maternity leave, gender wage gap, share of female managers, and share of female seats on boards of publicly listed companies (at the country level).\n",
    "\n",
    "Terms and conditions for use of the data:\n",
    "http://www.oecd.org/termsandconditions/\n",
    "\n",
    "I can use the data freely as long I provide a citation. However, I need to confirm any additional restrictions or license requirements in instances where the OECD is reporting from 3rd party sources.\n",
    "\n",
    "The dataset I am using is suitable for my purposes because it contains datapoints across a variety of gender-related indicators for countries globally."
   ],
   "cell_type": "markdown",
   "metadata": {}
  },
  {
   "source": [
    "### Background and Related Work\n",
    "\n",
    "There is plenty of literature that speaks to the phenomenon of unequivalent representation of women in politics. For instance, the following articles provide overviews of the United States' performance, which ranks 75th globally in women's representation in government:\n",
    "https://www.cnbc.com/2019/03/04/the-us-ranks-75th-in-womens-representation-in-government.html  \n",
    "https://www.amacad.org/publication/womens-underrepresentation-us-congress    \n",
    "\n",
    "There is also a plethora of work indicating the positive impact that can arise from greater female participation in political bodies. For instance, the Centre for Social and Economic Progress (formerly the Brookings Institution of India) explains that [female representation in Indian government leads to improved economic performance and health outcomes for women](https://www.brookings.edu/blog/up-front/2019/09/04/womens-political-participation-and-development/).\n",
    "\n",
    "The purpose of this analysis though is to focus on which factors both block and enable women in the journey to even enter the political realm. According to the [Carnegie Endowment for International Peace](https://carnegieendowment.org/2018/02/20/tackling-women-s-underrepresentation-in-u.s.-politics-comparative-perspectives-from-europe-pub-75315\n",
    "), women perform just as well as men or better in election races in the US. However, they are less likely to run to begin with. \n",
    "\n",
    "\n",
    "The [following research paper](https://www.researchgate.net/publication/327690671_Factors_affecting_Women's_Political_Participation_in_Lusaka_A_Case_Study_of_Kabwata_and_Munali_Constituencies) focuses on women's political participation in specific Zambian constituencies, but speaks to factors that are likely relevant globally. The authors Nsana and Kabubi discuss the role of socioeconomic, political, and cultural factors that can affect women's ability to participate in politics. To begin with, the lower economic status of women globally means that when women do obtain discretionary income, they will usually first reinvest it into their household rather into a political campaign. Even those that do seek to run for office face barriers given the amount of fundraising required to mount a successful campaign. Additionally, access to education, particularly in developing nations, can impede women's ability to pursue careers in political office. Finally, gender and cultural norms can play a role in preventing women from seeking political office, as husbands may threaten divorce, and others may employ threats of intimidation and violence.\n",
    "\n",
    "The authors of this study also cite that 30% representation of women in legislative bodies is the minimum needed in order to achieve critical mass and policy impact. This figure comes from the [Beijing Declaration and Platform for Action](https://www.un.org/en/events/pastevents/pdfs/Beijing_Declaration_and_Platform_for_Action.pdf), which was adopted by the United Nations during its Fourth World Conference on Women in 1995. \n",
    "\n",
    "The above bodies of work inform my analysis in the following ways:\n",
    "\n",
    "* I will include features in my dataset that reflect indicators of economic, educational, and societal parity for women. \n",
    "* I will use the 30% rate of critical mass as a threshold in my analysis. This may include splitting my dataset into two groups, countries with representation below critical mass and those at or above it. I may also chooose to create a logistic regression model to estimate the log likelihood of achieving said critical mass given a country's other indicators.\n",
    "\n",
    "\n",
    "\n",
    "\n",
    "\n",
    "\n"
   ],
   "cell_type": "markdown",
   "metadata": {}
  },
  {
   "source": [
    "### Methodology\n",
    "I plan to take a two part approach to this analysis:  \n",
    "\n",
    "**1. Descriptive statistical analysis, focusing on correlations between feature pairs**   \n",
    "**2. Evaluation of a machine learning model**  \n",
    "\n",
    "I plan to apply approach 1 to measure the relationship between individual feature pairs in order to avoid potentially confounding effects of other related variables in the dataset. However, I think it will be valuable to also create a linear or logistic regression model to complement the descriptive analysis. A regression model makes sense given that the datasets' features are all numeric and the goal is to predict either the proportion of female representation in politics or the log likelihood of achieving a critical mass of female representation. Furthermore, a regression model will provide visibility into the respective weights of the independent variables so that I can assess which gender parity indicators are most impactful for political representation of women.\n"
   ],
   "cell_type": "markdown",
   "metadata": {}
  },
  {
   "source": [
    "### Possible Unknowns/Dependencies \n",
    "The datapoints over time are not exactly comparable. This is likely because schema surveys or studies appear to change slightly over time. I may also find missing datapoints for some countries."
   ],
   "cell_type": "markdown",
   "metadata": {}
  }
 ]
}