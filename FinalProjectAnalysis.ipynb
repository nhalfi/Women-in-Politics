{
 "metadata": {
  "language_info": {
   "codemirror_mode": {
    "name": "ipython",
    "version": 3
   },
   "file_extension": ".py",
   "mimetype": "text/x-python",
   "name": "python",
   "nbconvert_exporter": "python",
   "pygments_lexer": "ipython3",
   "version": "3.9.0-final"
  },
  "orig_nbformat": 2,
  "kernelspec": {
   "name": "python3",
   "display_name": "Python 3.9.0 64-bit",
   "metadata": {
    "interpreter": {
     "hash": "34a5e61d0de6734ff5a1d76ebde4780bb96cc04bcba29aabdb753ac111cd91e9"
    }
   }
  }
 },
 "nbformat": 4,
 "nbformat_minor": 2,
 "cells": [
  {
   "source": [
    "## DATA 512 Final Project Analysis\n",
    "### Natasha Halfin\n",
    "### Autumn 2020"
   ],
   "cell_type": "markdown",
   "metadata": {}
  },
  {
   "source": [
    "### Introduction\n",
    "This Jupyter notebook shows the work I conducted for my final project to address the following research question and hypothesis: \n",
    " \n",
    "**Research Question**: What factors are associated with countries with greater female representation in politics?  \n",
    "\n",
    "**Hypothesis**: Countries with better performance across key gender parity indicators are more likely to have greater representation of women in politics."
   ],
   "cell_type": "markdown",
   "metadata": {}
  },
  {
   "source": [
    "### Environment Setup\n",
    "Before beginning the analysis, I will import all necessary libraries and load my datasets."
   ],
   "cell_type": "markdown",
   "metadata": {}
  },
  {
   "cell_type": "code",
   "execution_count": 2,
   "metadata": {},
   "outputs": [],
   "source": [
    "#Import libraries/packages\n",
    "import pandas as pd\n",
    "import matplotlib.pyplot as plt\n",
    "import numpy as np\n",
    "import seaborn as sns"
   ]
  },
  {
   "source": [
    "### Part 0: Data Loading, Cleaning, and Preparation"
   ],
   "cell_type": "markdown",
   "metadata": {}
  },
  {
   "cell_type": "code",
   "execution_count": 24,
   "metadata": {},
   "outputs": [
    {
     "output_type": "execute_result",
     "data": {
      "text/plain": [
       "   COU          Country    IND                                      Indicator  \\\n",
       "0  SVN         Slovenia  EMP17  Female share of seats in national parliaments   \n",
       "1  GRC           Greece  EMP17  Female share of seats in national parliaments   \n",
       "2  LUX       Luxembourg  EMP17  Female share of seats in national parliaments   \n",
       "3  SVK  Slovak Republic  EMP17  Female share of seats in national parliaments   \n",
       "4  SWE           Sweden  EMP17  Female share of seats in national parliaments   \n",
       "\n",
       "     SEX    Sex    AGE Age Group  TIME  Time Unit Code Unit  PowerCode Code  \\\n",
       "0  WOMEN  Women  TOTAL     Total  2014  2014       NaN  NaN               0   \n",
       "1  WOMEN  Women  TOTAL     Total  2014  2014       NaN  NaN               0   \n",
       "2  WOMEN  Women  TOTAL     Total  2014  2014       NaN  NaN               0   \n",
       "3  WOMEN  Women  TOTAL     Total  2014  2014       NaN  NaN               0   \n",
       "4  WOMEN  Women  TOTAL     Total  2014  2014       NaN  NaN               0   \n",
       "\n",
       "  PowerCode  Reference Period Code  Reference Period  Value  Flag Codes  Flags  \n",
       "0     Units                    NaN               NaN   35.6         NaN    NaN  \n",
       "1     Units                    NaN               NaN   21.0         NaN    NaN  \n",
       "2     Units                    NaN               NaN   28.3         NaN    NaN  \n",
       "3     Units                    NaN               NaN   18.7         NaN    NaN  \n",
       "4     Units                    NaN               NaN   44.7         NaN    NaN  "
      ],
      "text/html": "<div>\n<style scoped>\n    .dataframe tbody tr th:only-of-type {\n        vertical-align: middle;\n    }\n\n    .dataframe tbody tr th {\n        vertical-align: top;\n    }\n\n    .dataframe thead th {\n        text-align: right;\n    }\n</style>\n<table border=\"1\" class=\"dataframe\">\n  <thead>\n    <tr style=\"text-align: right;\">\n      <th></th>\n      <th>COU</th>\n      <th>Country</th>\n      <th>IND</th>\n      <th>Indicator</th>\n      <th>SEX</th>\n      <th>Sex</th>\n      <th>AGE</th>\n      <th>Age Group</th>\n      <th>TIME</th>\n      <th>Time</th>\n      <th>Unit Code</th>\n      <th>Unit</th>\n      <th>PowerCode Code</th>\n      <th>PowerCode</th>\n      <th>Reference Period Code</th>\n      <th>Reference Period</th>\n      <th>Value</th>\n      <th>Flag Codes</th>\n      <th>Flags</th>\n    </tr>\n  </thead>\n  <tbody>\n    <tr>\n      <th>0</th>\n      <td>SVN</td>\n      <td>Slovenia</td>\n      <td>EMP17</td>\n      <td>Female share of seats in national parliaments</td>\n      <td>WOMEN</td>\n      <td>Women</td>\n      <td>TOTAL</td>\n      <td>Total</td>\n      <td>2014</td>\n      <td>2014</td>\n      <td>NaN</td>\n      <td>NaN</td>\n      <td>0</td>\n      <td>Units</td>\n      <td>NaN</td>\n      <td>NaN</td>\n      <td>35.6</td>\n      <td>NaN</td>\n      <td>NaN</td>\n    </tr>\n    <tr>\n      <th>1</th>\n      <td>GRC</td>\n      <td>Greece</td>\n      <td>EMP17</td>\n      <td>Female share of seats in national parliaments</td>\n      <td>WOMEN</td>\n      <td>Women</td>\n      <td>TOTAL</td>\n      <td>Total</td>\n      <td>2014</td>\n      <td>2014</td>\n      <td>NaN</td>\n      <td>NaN</td>\n      <td>0</td>\n      <td>Units</td>\n      <td>NaN</td>\n      <td>NaN</td>\n      <td>21.0</td>\n      <td>NaN</td>\n      <td>NaN</td>\n    </tr>\n    <tr>\n      <th>2</th>\n      <td>LUX</td>\n      <td>Luxembourg</td>\n      <td>EMP17</td>\n      <td>Female share of seats in national parliaments</td>\n      <td>WOMEN</td>\n      <td>Women</td>\n      <td>TOTAL</td>\n      <td>Total</td>\n      <td>2014</td>\n      <td>2014</td>\n      <td>NaN</td>\n      <td>NaN</td>\n      <td>0</td>\n      <td>Units</td>\n      <td>NaN</td>\n      <td>NaN</td>\n      <td>28.3</td>\n      <td>NaN</td>\n      <td>NaN</td>\n    </tr>\n    <tr>\n      <th>3</th>\n      <td>SVK</td>\n      <td>Slovak Republic</td>\n      <td>EMP17</td>\n      <td>Female share of seats in national parliaments</td>\n      <td>WOMEN</td>\n      <td>Women</td>\n      <td>TOTAL</td>\n      <td>Total</td>\n      <td>2014</td>\n      <td>2014</td>\n      <td>NaN</td>\n      <td>NaN</td>\n      <td>0</td>\n      <td>Units</td>\n      <td>NaN</td>\n      <td>NaN</td>\n      <td>18.7</td>\n      <td>NaN</td>\n      <td>NaN</td>\n    </tr>\n    <tr>\n      <th>4</th>\n      <td>SWE</td>\n      <td>Sweden</td>\n      <td>EMP17</td>\n      <td>Female share of seats in national parliaments</td>\n      <td>WOMEN</td>\n      <td>Women</td>\n      <td>TOTAL</td>\n      <td>Total</td>\n      <td>2014</td>\n      <td>2014</td>\n      <td>NaN</td>\n      <td>NaN</td>\n      <td>0</td>\n      <td>Units</td>\n      <td>NaN</td>\n      <td>NaN</td>\n      <td>44.7</td>\n      <td>NaN</td>\n      <td>NaN</td>\n    </tr>\n  </tbody>\n</table>\n</div>"
     },
     "metadata": {},
     "execution_count": 24
    }
   ],
   "source": [
    "#Load data\n",
    "df_GIDDB = pd.read_csv(\"GIDDB2019_NH.csv\",sep =\",\")\n",
    "df_EMP = pd.read_csv(\"GENDER_EMP_2014-2019.csv\",sep =\",\")\n",
    "df_GIDDB.head()\n",
    "df_EMP.head()"
   ]
  },
  {
   "cell_type": "code",
   "execution_count": 25,
   "metadata": {},
   "outputs": [
    {
     "output_type": "execute_result",
     "data": {
      "text/plain": [
       "  REGION Region LOCATION    Country  INC       Income  \\\n",
       "0    ASI   Asia      AUS  Australia  HIN  High income   \n",
       "1    ASI   Asia      AUS  Australia  HIN  High income   \n",
       "2    ASI   Asia      AUS  Australia  HIN  High income   \n",
       "3    ASI   Asia      AUS  Australia  HIN  High income   \n",
       "4    ASI   Asia      AUS  Australia  HIN  High income   \n",
       "\n",
       "                                    VAR   Variable  TIME  Year  Value  \\\n",
       "0  Household Responsibilities Attitudes  Attitudes  2019  2019   21.1   \n",
       "1                           Divorce Law        Law  2019  2019    0.0   \n",
       "2      Violence Against Women Practices   Practice  2019  2019   16.9   \n",
       "3             Reproductive Autonomy Law        Law  2019  2019    0.0   \n",
       "4      Access to Financial Services Law        Law  2019  2019    0.0   \n",
       "\n",
       "   Flag Codes  Flags  \n",
       "0         NaN    NaN  \n",
       "1         NaN    NaN  \n",
       "2         NaN    NaN  \n",
       "3         NaN    NaN  \n",
       "4         NaN    NaN  "
      ],
      "text/html": "<div>\n<style scoped>\n    .dataframe tbody tr th:only-of-type {\n        vertical-align: middle;\n    }\n\n    .dataframe tbody tr th {\n        vertical-align: top;\n    }\n\n    .dataframe thead th {\n        text-align: right;\n    }\n</style>\n<table border=\"1\" class=\"dataframe\">\n  <thead>\n    <tr style=\"text-align: right;\">\n      <th></th>\n      <th>REGION</th>\n      <th>Region</th>\n      <th>LOCATION</th>\n      <th>Country</th>\n      <th>INC</th>\n      <th>Income</th>\n      <th>VAR</th>\n      <th>Variable</th>\n      <th>TIME</th>\n      <th>Year</th>\n      <th>Value</th>\n      <th>Flag Codes</th>\n      <th>Flags</th>\n    </tr>\n  </thead>\n  <tbody>\n    <tr>\n      <th>0</th>\n      <td>ASI</td>\n      <td>Asia</td>\n      <td>AUS</td>\n      <td>Australia</td>\n      <td>HIN</td>\n      <td>High income</td>\n      <td>Household Responsibilities Attitudes</td>\n      <td>Attitudes</td>\n      <td>2019</td>\n      <td>2019</td>\n      <td>21.1</td>\n      <td>NaN</td>\n      <td>NaN</td>\n    </tr>\n    <tr>\n      <th>1</th>\n      <td>ASI</td>\n      <td>Asia</td>\n      <td>AUS</td>\n      <td>Australia</td>\n      <td>HIN</td>\n      <td>High income</td>\n      <td>Divorce Law</td>\n      <td>Law</td>\n      <td>2019</td>\n      <td>2019</td>\n      <td>0.0</td>\n      <td>NaN</td>\n      <td>NaN</td>\n    </tr>\n    <tr>\n      <th>2</th>\n      <td>ASI</td>\n      <td>Asia</td>\n      <td>AUS</td>\n      <td>Australia</td>\n      <td>HIN</td>\n      <td>High income</td>\n      <td>Violence Against Women Practices</td>\n      <td>Practice</td>\n      <td>2019</td>\n      <td>2019</td>\n      <td>16.9</td>\n      <td>NaN</td>\n      <td>NaN</td>\n    </tr>\n    <tr>\n      <th>3</th>\n      <td>ASI</td>\n      <td>Asia</td>\n      <td>AUS</td>\n      <td>Australia</td>\n      <td>HIN</td>\n      <td>High income</td>\n      <td>Reproductive Autonomy Law</td>\n      <td>Law</td>\n      <td>2019</td>\n      <td>2019</td>\n      <td>0.0</td>\n      <td>NaN</td>\n      <td>NaN</td>\n    </tr>\n    <tr>\n      <th>4</th>\n      <td>ASI</td>\n      <td>Asia</td>\n      <td>AUS</td>\n      <td>Australia</td>\n      <td>HIN</td>\n      <td>High income</td>\n      <td>Access to Financial Services Law</td>\n      <td>Law</td>\n      <td>2019</td>\n      <td>2019</td>\n      <td>0.0</td>\n      <td>NaN</td>\n      <td>NaN</td>\n    </tr>\n  </tbody>\n</table>\n</div>"
     },
     "metadata": {},
     "execution_count": 25
    }
   ],
   "source": [
    "##clean data##\n",
    "##part 1: GIDDB dataset\n",
    "#rename variables to friendly names in df_GIDDB\n",
    "df_GIDDB['VAR'] = df_GIDDB['VAR'].replace(['DF_DV_LAW'],'Divorce Law')\n",
    "df_GIDDB['VAR'] = df_GIDDB['VAR'].replace(['DF_HR_ATT'],'Household Responsibilities Attitudes')\n",
    "df_GIDDB['VAR'] = df_GIDDB['VAR'].replace(['RPI_VAW_PRACT'],'Violence Against Women Practices')\n",
    "df_GIDDB['VAR'] = df_GIDDB['VAR'].replace(['RPI_RA_LAW'],'Reproductive Autonomy Law')\n",
    "df_GIDDB['VAR'] = df_GIDDB['VAR'].replace(['RAPFR_SAFS_LAW'],'Access to Financial Services Law')\n",
    "df_GIDDB['VAR'] = df_GIDDB['VAR'].replace(['RCL_PV_PRACT'],'Political Voice Practices')\n",
    "\n",
    "df_GIDDB.head()\n"
   ]
  },
  {
   "cell_type": "code",
   "execution_count": 26,
   "metadata": {},
   "outputs": [
    {
     "output_type": "execute_result",
     "data": {
      "text/plain": [
       "     Country                                   VAR  Year  Value\n",
       "0  Australia  Household Responsibilities Attitudes  2019   21.1\n",
       "1  Australia                           Divorce Law  2019    0.0\n",
       "2  Australia      Violence Against Women Practices  2019   16.9\n",
       "3  Australia             Reproductive Autonomy Law  2019    0.0\n",
       "4  Australia      Access to Financial Services Law  2019    0.0"
      ],
      "text/html": "<div>\n<style scoped>\n    .dataframe tbody tr th:only-of-type {\n        vertical-align: middle;\n    }\n\n    .dataframe tbody tr th {\n        vertical-align: top;\n    }\n\n    .dataframe thead th {\n        text-align: right;\n    }\n</style>\n<table border=\"1\" class=\"dataframe\">\n  <thead>\n    <tr style=\"text-align: right;\">\n      <th></th>\n      <th>Country</th>\n      <th>VAR</th>\n      <th>Year</th>\n      <th>Value</th>\n    </tr>\n  </thead>\n  <tbody>\n    <tr>\n      <th>0</th>\n      <td>Australia</td>\n      <td>Household Responsibilities Attitudes</td>\n      <td>2019</td>\n      <td>21.1</td>\n    </tr>\n    <tr>\n      <th>1</th>\n      <td>Australia</td>\n      <td>Divorce Law</td>\n      <td>2019</td>\n      <td>0.0</td>\n    </tr>\n    <tr>\n      <th>2</th>\n      <td>Australia</td>\n      <td>Violence Against Women Practices</td>\n      <td>2019</td>\n      <td>16.9</td>\n    </tr>\n    <tr>\n      <th>3</th>\n      <td>Australia</td>\n      <td>Reproductive Autonomy Law</td>\n      <td>2019</td>\n      <td>0.0</td>\n    </tr>\n    <tr>\n      <th>4</th>\n      <td>Australia</td>\n      <td>Access to Financial Services Law</td>\n      <td>2019</td>\n      <td>0.0</td>\n    </tr>\n  </tbody>\n</table>\n</div>"
     },
     "metadata": {},
     "execution_count": 26
    }
   ],
   "source": [
    "#drop redundant or unneeded columns\n",
    "df_GIDDB = df_GIDDB.drop(['REGION','LOCATION','INC','Variable','TIME','Flag Codes','Flags','Income','Region'],axis=1)\n",
    "df_GIDDB.head()"
   ]
  },
  {
   "cell_type": "code",
   "execution_count": 27,
   "metadata": {},
   "outputs": [
    {
     "output_type": "execute_result",
     "data": {
      "text/plain": [
       "VAR                       Access to Financial Services Law  Divorce Law  \\\n",
       "Country             Year                                                  \n",
       "Afghanistan         2019                              0.25         1.00   \n",
       "Albania             2019                              0.25         0.25   \n",
       "Algeria             2019                              0.25         1.00   \n",
       "Angola              2019                              0.25         0.50   \n",
       "Antigua and Barbuda 2019                              0.25         0.00   \n",
       "\n",
       "VAR                       Household Responsibilities Attitudes  \\\n",
       "Country             Year                                         \n",
       "Afghanistan         2019                                   NaN   \n",
       "Albania             2019                                   NaN   \n",
       "Algeria             2019                                  75.1   \n",
       "Angola              2019                                   NaN   \n",
       "Antigua and Barbuda 2019                                   NaN   \n",
       "\n",
       "VAR                       Political Voice Practices  \\\n",
       "Country             Year                              \n",
       "Afghanistan         2019                       27.7   \n",
       "Albania             2019                       27.9   \n",
       "Algeria             2019                       25.8   \n",
       "Angola              2019                       30.5   \n",
       "Antigua and Barbuda 2019                       11.1   \n",
       "\n",
       "VAR                       Reproductive Autonomy Law  \\\n",
       "Country             Year                              \n",
       "Afghanistan         2019                       0.75   \n",
       "Albania             2019                       0.00   \n",
       "Algeria             2019                       0.75   \n",
       "Angola              2019                       0.00   \n",
       "Antigua and Barbuda 2019                       0.75   \n",
       "\n",
       "VAR                       Violence Against Women Practices  \n",
       "Country             Year                                    \n",
       "Afghanistan         2019                              60.8  \n",
       "Albania             2019                              24.6  \n",
       "Algeria             2019                               NaN  \n",
       "Angola              2019                              34.8  \n",
       "Antigua and Barbuda 2019                               NaN  "
      ],
      "text/html": "<div>\n<style scoped>\n    .dataframe tbody tr th:only-of-type {\n        vertical-align: middle;\n    }\n\n    .dataframe tbody tr th {\n        vertical-align: top;\n    }\n\n    .dataframe thead th {\n        text-align: right;\n    }\n</style>\n<table border=\"1\" class=\"dataframe\">\n  <thead>\n    <tr style=\"text-align: right;\">\n      <th></th>\n      <th>VAR</th>\n      <th>Access to Financial Services Law</th>\n      <th>Divorce Law</th>\n      <th>Household Responsibilities Attitudes</th>\n      <th>Political Voice Practices</th>\n      <th>Reproductive Autonomy Law</th>\n      <th>Violence Against Women Practices</th>\n    </tr>\n    <tr>\n      <th>Country</th>\n      <th>Year</th>\n      <th></th>\n      <th></th>\n      <th></th>\n      <th></th>\n      <th></th>\n      <th></th>\n    </tr>\n  </thead>\n  <tbody>\n    <tr>\n      <th>Afghanistan</th>\n      <th>2019</th>\n      <td>0.25</td>\n      <td>1.00</td>\n      <td>NaN</td>\n      <td>27.7</td>\n      <td>0.75</td>\n      <td>60.8</td>\n    </tr>\n    <tr>\n      <th>Albania</th>\n      <th>2019</th>\n      <td>0.25</td>\n      <td>0.25</td>\n      <td>NaN</td>\n      <td>27.9</td>\n      <td>0.00</td>\n      <td>24.6</td>\n    </tr>\n    <tr>\n      <th>Algeria</th>\n      <th>2019</th>\n      <td>0.25</td>\n      <td>1.00</td>\n      <td>75.1</td>\n      <td>25.8</td>\n      <td>0.75</td>\n      <td>NaN</td>\n    </tr>\n    <tr>\n      <th>Angola</th>\n      <th>2019</th>\n      <td>0.25</td>\n      <td>0.50</td>\n      <td>NaN</td>\n      <td>30.5</td>\n      <td>0.00</td>\n      <td>34.8</td>\n    </tr>\n    <tr>\n      <th>Antigua and Barbuda</th>\n      <th>2019</th>\n      <td>0.25</td>\n      <td>0.00</td>\n      <td>NaN</td>\n      <td>11.1</td>\n      <td>0.75</td>\n      <td>NaN</td>\n    </tr>\n  </tbody>\n</table>\n</div>"
     },
     "metadata": {},
     "execution_count": 27
    }
   ],
   "source": [
    "#pivot datadrame to create column for each variable/indicator\n",
    "df_GIDDB_pivot = pd.pivot_table(df_GIDDB,values='Value', columns = 'VAR',index = ['Country','Year'])\n",
    "df_GIDDB_pivot.head()"
   ]
  },
  {
   "cell_type": "code",
   "execution_count": 35,
   "metadata": {},
   "outputs": [
    {
     "output_type": "execute_result",
     "data": {
      "text/plain": [
       "           Country                                      Indicator  Year  Value\n",
       "0         Slovenia  Female share of seats in national parliaments  2014   35.6\n",
       "1           Greece  Female share of seats in national parliaments  2014   21.0\n",
       "2       Luxembourg  Female share of seats in national parliaments  2014   28.3\n",
       "3  Slovak Republic  Female share of seats in national parliaments  2014   18.7\n",
       "4           Sweden  Female share of seats in national parliaments  2014   44.7"
      ],
      "text/html": "<div>\n<style scoped>\n    .dataframe tbody tr th:only-of-type {\n        vertical-align: middle;\n    }\n\n    .dataframe tbody tr th {\n        vertical-align: top;\n    }\n\n    .dataframe thead th {\n        text-align: right;\n    }\n</style>\n<table border=\"1\" class=\"dataframe\">\n  <thead>\n    <tr style=\"text-align: right;\">\n      <th></th>\n      <th>Country</th>\n      <th>Indicator</th>\n      <th>Year</th>\n      <th>Value</th>\n    </tr>\n  </thead>\n  <tbody>\n    <tr>\n      <th>0</th>\n      <td>Slovenia</td>\n      <td>Female share of seats in national parliaments</td>\n      <td>2014</td>\n      <td>35.6</td>\n    </tr>\n    <tr>\n      <th>1</th>\n      <td>Greece</td>\n      <td>Female share of seats in national parliaments</td>\n      <td>2014</td>\n      <td>21.0</td>\n    </tr>\n    <tr>\n      <th>2</th>\n      <td>Luxembourg</td>\n      <td>Female share of seats in national parliaments</td>\n      <td>2014</td>\n      <td>28.3</td>\n    </tr>\n    <tr>\n      <th>3</th>\n      <td>Slovak Republic</td>\n      <td>Female share of seats in national parliaments</td>\n      <td>2014</td>\n      <td>18.7</td>\n    </tr>\n    <tr>\n      <th>4</th>\n      <td>Sweden</td>\n      <td>Female share of seats in national parliaments</td>\n      <td>2014</td>\n      <td>44.7</td>\n    </tr>\n  </tbody>\n</table>\n</div>"
     },
     "metadata": {},
     "execution_count": 35
    }
   ],
   "source": [
    "#part 2: EMP dataset\n",
    "#drop unneeded columns\n",
    "df_EMP = df_EMP[['Country','Indicator','Time','Value']]\n",
    "df_EMP = df_EMP.rename(columns={\"Time\":\"Year\"})\n",
    "df_EMP.head()"
   ]
  },
  {
   "cell_type": "code",
   "execution_count": 37,
   "metadata": {},
   "outputs": [
    {
     "output_type": "execute_result",
     "data": {
      "text/plain": [
       "Indicator       Female share of seats in national parliaments  \\\n",
       "Country   Year                                                  \n",
       "Australia 2014                                           26.0   \n",
       "          2015                                           26.7   \n",
       "          2016                                           28.7   \n",
       "          2017                                            NaN   \n",
       "          2018                                            NaN   \n",
       "\n",
       "Indicator       Female share of seats on boards of the largest publicly listed companies  \\\n",
       "Country   Year                                                                             \n",
       "Australia 2014                                                NaN                          \n",
       "          2015                                                NaN                          \n",
       "          2016                                               26.0                          \n",
       "          2017                                               28.7                          \n",
       "          2018                                               31.5                          \n",
       "\n",
       "Indicator       Length of maternity leave  Share of female managers  \n",
       "Country   Year                                                       \n",
       "Australia 2014                        6.0                      36.0  \n",
       "          2015                        6.0                      37.2  \n",
       "          2016                        6.0                      36.3  \n",
       "          2017                        NaN                      38.2  \n",
       "          2018                        NaN                      37.3  "
      ],
      "text/html": "<div>\n<style scoped>\n    .dataframe tbody tr th:only-of-type {\n        vertical-align: middle;\n    }\n\n    .dataframe tbody tr th {\n        vertical-align: top;\n    }\n\n    .dataframe thead th {\n        text-align: right;\n    }\n</style>\n<table border=\"1\" class=\"dataframe\">\n  <thead>\n    <tr style=\"text-align: right;\">\n      <th></th>\n      <th>Indicator</th>\n      <th>Female share of seats in national parliaments</th>\n      <th>Female share of seats on boards of the largest publicly listed companies</th>\n      <th>Length of maternity leave</th>\n      <th>Share of female managers</th>\n    </tr>\n    <tr>\n      <th>Country</th>\n      <th>Year</th>\n      <th></th>\n      <th></th>\n      <th></th>\n      <th></th>\n    </tr>\n  </thead>\n  <tbody>\n    <tr>\n      <th rowspan=\"5\" valign=\"top\">Australia</th>\n      <th>2014</th>\n      <td>26.0</td>\n      <td>NaN</td>\n      <td>6.0</td>\n      <td>36.0</td>\n    </tr>\n    <tr>\n      <th>2015</th>\n      <td>26.7</td>\n      <td>NaN</td>\n      <td>6.0</td>\n      <td>37.2</td>\n    </tr>\n    <tr>\n      <th>2016</th>\n      <td>28.7</td>\n      <td>26.0</td>\n      <td>6.0</td>\n      <td>36.3</td>\n    </tr>\n    <tr>\n      <th>2017</th>\n      <td>NaN</td>\n      <td>28.7</td>\n      <td>NaN</td>\n      <td>38.2</td>\n    </tr>\n    <tr>\n      <th>2018</th>\n      <td>NaN</td>\n      <td>31.5</td>\n      <td>NaN</td>\n      <td>37.3</td>\n    </tr>\n  </tbody>\n</table>\n</div>"
     },
     "metadata": {},
     "execution_count": 37
    }
   ],
   "source": [
    "#pivot indicators to columns\n",
    "df_EMP_pivot = pd.pivot_table(df_EMP,values='Value',columns='Indicator',index = ['Country','Year'])\n",
    "df_EMP_pivot.head()"
   ]
  },
  {
   "cell_type": "code",
   "execution_count": 39,
   "metadata": {},
   "outputs": [
    {
     "output_type": "execute_result",
     "data": {
      "text/plain": [
       "                Female share of seats in national parliaments  \\\n",
       "Country   Year                                                  \n",
       "Australia 2019                                            NaN   \n",
       "Austria   2019                                            NaN   \n",
       "Belgium   2019                                            NaN   \n",
       "Brazil    2019                                            NaN   \n",
       "Canada    2019                                            NaN   \n",
       "\n",
       "                Female share of seats on boards of the largest publicly listed companies  \\\n",
       "Country   Year                                                                             \n",
       "Australia 2019                                               31.2                          \n",
       "Austria   2019                                               31.3                          \n",
       "Belgium   2019                                               35.9                          \n",
       "Brazil    2019                                               11.9                          \n",
       "Canada    2019                                               29.1                          \n",
       "\n",
       "                Length of maternity leave  Share of female managers  \\\n",
       "Country   Year                                                        \n",
       "Australia 2019                        NaN                       NaN   \n",
       "Austria   2019                        NaN                       NaN   \n",
       "Belgium   2019                        NaN                       NaN   \n",
       "Brazil    2019                        NaN                       NaN   \n",
       "Canada    2019                        NaN                       NaN   \n",
       "\n",
       "                Access to Financial Services Law  Divorce Law  \\\n",
       "Country   Year                                                  \n",
       "Australia 2019                               0.0          0.0   \n",
       "Austria   2019                               0.0          0.0   \n",
       "Belgium   2019                               0.0          0.0   \n",
       "Brazil    2019                               0.0          0.0   \n",
       "Canada    2019                               0.0          0.0   \n",
       "\n",
       "                Household Responsibilities Attitudes  \\\n",
       "Country   Year                                         \n",
       "Australia 2019                                  21.1   \n",
       "Austria   2019                                  58.3   \n",
       "Belgium   2019                                  32.0   \n",
       "Brazil    2019                                  60.4   \n",
       "Canada    2019                                  27.7   \n",
       "\n",
       "                Political Voice Practices  Reproductive Autonomy Law  \\\n",
       "Country   Year                                                         \n",
       "Australia 2019                       28.7                        0.0   \n",
       "Austria   2019                       34.4                        0.0   \n",
       "Belgium   2019                       38.0                        0.0   \n",
       "Brazil    2019                       10.7                        0.5   \n",
       "Canada    2019                       27.0                        0.0   \n",
       "\n",
       "                Violence Against Women Practices  \n",
       "Country   Year                                    \n",
       "Australia 2019                              16.9  \n",
       "Austria   2019                              13.0  \n",
       "Belgium   2019                              24.0  \n",
       "Brazil    2019                              33.5  \n",
       "Canada    2019                               1.9  "
      ],
      "text/html": "<div>\n<style scoped>\n    .dataframe tbody tr th:only-of-type {\n        vertical-align: middle;\n    }\n\n    .dataframe tbody tr th {\n        vertical-align: top;\n    }\n\n    .dataframe thead th {\n        text-align: right;\n    }\n</style>\n<table border=\"1\" class=\"dataframe\">\n  <thead>\n    <tr style=\"text-align: right;\">\n      <th></th>\n      <th></th>\n      <th>Female share of seats in national parliaments</th>\n      <th>Female share of seats on boards of the largest publicly listed companies</th>\n      <th>Length of maternity leave</th>\n      <th>Share of female managers</th>\n      <th>Access to Financial Services Law</th>\n      <th>Divorce Law</th>\n      <th>Household Responsibilities Attitudes</th>\n      <th>Political Voice Practices</th>\n      <th>Reproductive Autonomy Law</th>\n      <th>Violence Against Women Practices</th>\n    </tr>\n    <tr>\n      <th>Country</th>\n      <th>Year</th>\n      <th></th>\n      <th></th>\n      <th></th>\n      <th></th>\n      <th></th>\n      <th></th>\n      <th></th>\n      <th></th>\n      <th></th>\n      <th></th>\n    </tr>\n  </thead>\n  <tbody>\n    <tr>\n      <th>Australia</th>\n      <th>2019</th>\n      <td>NaN</td>\n      <td>31.2</td>\n      <td>NaN</td>\n      <td>NaN</td>\n      <td>0.0</td>\n      <td>0.0</td>\n      <td>21.1</td>\n      <td>28.7</td>\n      <td>0.0</td>\n      <td>16.9</td>\n    </tr>\n    <tr>\n      <th>Austria</th>\n      <th>2019</th>\n      <td>NaN</td>\n      <td>31.3</td>\n      <td>NaN</td>\n      <td>NaN</td>\n      <td>0.0</td>\n      <td>0.0</td>\n      <td>58.3</td>\n      <td>34.4</td>\n      <td>0.0</td>\n      <td>13.0</td>\n    </tr>\n    <tr>\n      <th>Belgium</th>\n      <th>2019</th>\n      <td>NaN</td>\n      <td>35.9</td>\n      <td>NaN</td>\n      <td>NaN</td>\n      <td>0.0</td>\n      <td>0.0</td>\n      <td>32.0</td>\n      <td>38.0</td>\n      <td>0.0</td>\n      <td>24.0</td>\n    </tr>\n    <tr>\n      <th>Brazil</th>\n      <th>2019</th>\n      <td>NaN</td>\n      <td>11.9</td>\n      <td>NaN</td>\n      <td>NaN</td>\n      <td>0.0</td>\n      <td>0.0</td>\n      <td>60.4</td>\n      <td>10.7</td>\n      <td>0.5</td>\n      <td>33.5</td>\n    </tr>\n    <tr>\n      <th>Canada</th>\n      <th>2019</th>\n      <td>NaN</td>\n      <td>29.1</td>\n      <td>NaN</td>\n      <td>NaN</td>\n      <td>0.0</td>\n      <td>0.0</td>\n      <td>27.7</td>\n      <td>27.0</td>\n      <td>0.0</td>\n      <td>1.9</td>\n    </tr>\n  </tbody>\n</table>\n</div>"
     },
     "metadata": {},
     "execution_count": 39
    }
   ],
   "source": [
    "#join GIDDB and EMP datasets\n",
    "df_join = df_EMP_pivot.merge(df_GIDDB_pivot,how = 'inner',on = ['Country','Year'])\n",
    "df_join.head()"
   ]
  },
  {
   "cell_type": "code",
   "execution_count": 40,
   "metadata": {},
   "outputs": [
    {
     "output_type": "execute_result",
     "data": {
      "text/plain": [
       "ombia                     2019                       NaN   \n",
       "Czech Republic               2019                       NaN   \n",
       "Denmark                      2019                       NaN   \n",
       "Estonia                      2019                       NaN   \n",
       "Finland                      2019                       NaN   \n",
       "France                       2019                       NaN   \n",
       "Germany                      2019                       NaN   \n",
       "Greece                       2019                       NaN   \n",
       "Hungary                      2019                       NaN   \n",
       "Iceland                      2019                       NaN   \n",
       "India                        2019                       NaN   \n",
       "Indonesia                    2019                       NaN   \n",
       "Ireland                      2019                       NaN   \n",
       "Israel                       2019                       NaN   \n",
       "Italy                        2019                       NaN   \n",
       "Japan                        2019                       NaN   \n",
       "Korea                        2019                       NaN   \n",
       "Latvia                       2019                       NaN   \n",
       "Lithuania                    2019                       NaN   \n",
       "Luxembourg                   2019                       NaN   \n",
       "Mexico                       2019                       NaN   \n",
       "Netherlands                  2019                       NaN   \n",
       "New Zealand                  2019                       NaN   \n",
       "Norway                       2019                       NaN   \n",
       "Poland                       2019                       NaN   \n",
       "Portugal                     2019                       NaN   \n",
       "Russia                       2019                       NaN   \n",
       "Slovak Republic              2019                       NaN   \n",
       "Slovenia                     2019                       NaN   \n",
       "South Africa                 2019                       NaN   \n",
       "Spain                        2019                       NaN   \n",
       "Sweden                       2019                       NaN   \n",
       "Switzerland                  2019                       NaN   \n",
       "Turkey                       2019                       NaN   \n",
       "United Kingdom               2019                       NaN   \n",
       "United States                2019                       NaN   \n",
       "\n",
       "                                   Access to Financial Services Law  \\\n",
       "Country                      Year                                     \n",
       "Australia                    2019                              0.00   \n",
       "Austria                      2019                              0.00   \n",
       "Belgium                      2019                              0.00   \n",
       "Brazil                       2019                              0.00   \n",
       "Canada                       2019                              0.00   \n",
       "Chile                        2019                              0.00   \n",
       "China (People's Republic of) 2019                              0.00   \n",
       "Colombia                     2019                              0.00   \n",
       "Czech Republic               2019                              0.25   \n",
       "Denmark                      2019                              0.00   \n",
       "Estonia                      2019                              0.00   \n",
       "Finland                      2019                              0.00   \n",
       "France                       2019                              0.00   \n",
       "Germany                      2019                              0.00   \n",
       "Greece                       2019                              0.00   \n",
       "Hungary                      2019                              0.00   \n",
       "Iceland                      2019                              0.00   \n",
       "India                        2019                              0.25   \n",
       "Indonesia                    2019                              0.25   \n",
       "Ireland                      2019                              0.00   \n",
       "Israel                       2019                              0.00   \n",
       "Italy                        2019                              0.25   \n",
       "Japan                        2019                              0.25   \n",
       "Korea                        2019                              0.00   \n",
       "Latvia                       2019                              0.25   \n",
       "Lithuania                    2019                              0.00   \n",
       "Luxembourg                   2019                              0.00   \n",
       "Mexico                       2019                              0.00   \n",
       "Netherlands                  2019                              0.00   \n",
       "New Zealand                  2019                              0.00   \n",
       "Norway                       2019                              0.00   \n",
       "Poland                       2019                              0.00   \n",
       "Portugal                     2019                              0.00   \n",
       "Russia                       2019                              0.00   \n",
       "Slovak Republic              2019                              0.00   \n",
       "Slovenia                     2019                              0.00   \n",
       "South Africa                 2019                              0.00   \n",
       "Spain                        2019                              0.00   \n",
       "Sweden                       2019                              0.00   \n",
       "Switzerland                  2019                              0.00   \n",
       "Turkey                       2019                              0.25   \n",
       "United Kingdom               2019                              0.00   \n",
       "United States                2019                              0.00   \n",
       "\n",
       "                                   Divorce Law  \\\n",
       "Country                      Year                \n",
       "Australia                    2019         0.00   \n",
       "Austria                      2019         0.00   \n",
       "Belgium                      2019         0.00   \n",
       "Brazil                       2019         0.00   \n",
       "Canada                       2019         0.00   \n",
       "Chile                        2019         0.25   \n",
       "China (People's Republic of) 2019         0.00   \n",
       "Colombia                     2019         0.00   \n",
       "Czech Republic               2019         0.25   \n",
       "Denmark                      2019         0.00   \n",
       "Estonia                      2019         0.00   \n",
       "Finland                      2019         0.00   \n",
       "France                       2019         0.00   \n",
       "Germany                      2019         0.00   \n",
       "Greece                       2019         0.50   \n",
       "Hungary                      2019         0.00   \n",
       "Iceland                      2019         0.00   \n",
       "India                        2019         0.50   \n",
       "Indonesia                    2019         0.25   \n",
       "Ireland                      2019         0.00   \n",
       "Israel                       2019         0.75   \n",
       "Italy                        2019         0.00   \n",
       "Japan                        2019         0.25   \n",
       "Korea                        2019         0.00   \n",
       "Latvia                       2019         0.00   \n",
       "Lithuania                    2019         0.25   \n",
       "Luxembourg                   2019         0.00   \n",
       "Mexico                       2019         1.00   \n",
       "Netherlands                  2019         0.25   \n",
       "New Zealand                  2019         0.00   \n",
       "Norway                       2019         0.25   \n",
       "Poland                       2019         0.00   \n",
       "Portugal                     2019         0.00   \n",
       "Russia                       2019         0.00   \n",
       "Slovak Republic              2019         0.00   \n",
       "Slovenia                     2019         0.00   \n",
       "South Africa                 2019         0.25   \n",
       "Spain                        2019         0.00   \n",
       "Sweden                       2019         0.00   \n",
       "Switzerland                  2019         0.00   \n",
       "Turkey                       2019         0.25   \n",
       "United Kingdom               2019         0.00   \n",
       "United States                2019         0.00   \n",
       "\n",
       "                                   Household Responsibilities Attitudes  \\\n",
       "Country                      Year                                         \n",
       "Australia                    2019                                  21.1   \n",
       "Austria                      2019                                  58.3   \n",
       "Belgium                      2019                                  32.0   \n",
       "Brazil                       2019                                  60.4   \n",
       "Canada                       2019                                  27.7   \n",
       "Chile                        2019                                  36.0   \n",
       "China (People's Republic of) 2019                                  42.4   \n",
       "Colombia                     2019                                  42.4   \n",
       "Czech Republic               2019                                  32.5   \n",
       "Denmark                      2019                                  22.1   \n",
       "Estonia                      2019                                  23.9   \n",
       "Finland                      2019                                  21.1   \n",
       "France                       2019                                  34.7   \n",
       "Germany                      2019                                  31.7   \n",
       "Greece                       2019                                   NaN   \n",
       "Hungary                      2019                                  50.9   \n",
       "Iceland                      2019                                  13.0   \n",
       "India                        2019                                  75.9   \n",
       "Indonesia                    2019                                   NaN   \n",
       "Ireland                      2019                                  26.0   \n",
       "Israel                       2019                                  47.6   \n",
       "Italy                        2019                                   NaN   \n",
       "Japan                        2019                                  15.3   \n",
       "Korea                        2019                                  55.2   \n",
       "Latvia                       2019                                  59.3   \n",
       "Lithuania                    2019                                  43.3   \n",
       "Luxembourg                   2019                                   NaN   \n",
       "Mexico                       2019                                  43.6   \n",
       "Netherlands                  2019                                  14.9   \n",
       "New Zealand                  2019                                  21.4   \n",
       "Norway                       2019                                  15.2   \n",
       "Poland                       2019                                  58.7   \n",
       "Portugal                     2019                                  57.3   \n",
       "Russia                       2019                                  38.8   \n",
       "Slovak Republic              2019                                  33.4   \n",
       "Slovenia                     2019                                  27.2   \n",
       "South Africa                 2019                                  53.8   \n",
       "Spain                        2019                                  27.4   \n",
       "Sweden                       2019                                  32.0   \n",
       "Switzerland                  2019                                  42.7   \n",
       "Turkey                       2019                                  65.9   \n",
       "United Kingdom               2019                                  30.6   \n",
       "United States                2019                                  24.9   \n",
       "\n",
       "                                   Political Voice Practices  \\\n",
       "Country                      Year                              \n",
       "Australia                    2019                       28.7   \n",
       "Austria                      2019                       34.4   \n",
       "Belgium                      2019                       38.0   \n",
       "Brazil                       2019                       10.7   \n",
       "Canada                       2019                       27.0   \n",
       "Chile                        2019                       22.6   \n",
       "China (People's Republic of) 2019                       24.2   \n",
       "Colombia                     2019                       18.7   \n",
       "Czech Republic               2019                       22.0   \n",
       "Denmark                      2019                       37.4   \n",
       "Estonia                      2019                       26.7   \n",
       "Finland                      2019                       42.0   \n",
       "France                       2019                       39.0   \n",
       "Germany                      2019                       30.7   \n",
       "Greece                       2019                       18.3   \n",
       "Hungary                      2019                       10.1   \n",
       "Iceland                      2019                       38.1   \n",
       "India                        2019                       11.8   \n",
       "Indonesia                    2019                       19.8   \n",
       "Ireland                      2019                       22.2   \n",
       "Israel                       2019                       27.5   \n",
       "Italy                        2019                       31.0   \n",
       "Japan                        2019                       10.1   \n",
       "Korea                        2019                       17.0   \n",
       "Latvia                       2019                       16.0   \n",
       "Lithuania                    2019                       21.3   \n",
       "Luxembourg                   2019                       28.3   \n",
       "Mexico                       2019                       42.6   \n",
       "Netherlands                  2019                       36.0   \n",
       "New Zealand                  2019                       38.3   \n",
       "Norway                       2019                       41.4   \n",
       "Poland                       2019                       28.0   \n",
       "Portugal                     2019                       34.8   \n",
       "Russia                       2019                       15.8   \n",
       "Slovak Republic              2019                       20.0   \n",
       "Slovenia                     2019                       36.7   \n",
       "South Africa                 2019                       42.1   \n",
       "Spain                        2019                       39.1   \n",
       "Sweden                       2019                       43.6   \n",
       "Switzerland                  2019                       32.5   \n",
       "Turkey                       2019                       14.6   \n",
       "United Kingdom               2019                       32.0   \n",
       "United States                2019                       19.4   \n",
       "\n",
       "                                   Reproductive Autonomy Law  \\\n",
       "Country                      Year                              \n",
       "Australia                    2019                       0.00   \n",
       "Austria                      2019                       0.00   \n",
       "Belgium                      2019                       0.00   \n",
       "Brazil                       2019                       0.50   \n",
       "Canada                       2019                       0.00   \n",
       "Chile                        2019                       0.50   \n",
       "China (People's Republic of) 2019                       0.00   \n",
       "Colombia                     2019                       0.50   \n",
       "Czech Republic               2019                       0.00   \n",
       "Denmark                      2019                       0.00   \n",
       "Estonia                      2019                       0.00   \n",
       "Finland                      2019                       0.25   \n",
       "France                       2019                       0.00   \n",
       "Germany                      2019                       0.00   \n",
       "Greece                       2019                       0.00   \n",
       "Hungary                      2019                       0.25   \n",
       "Iceland                      2019                       0.25   \n",
       "India                        2019                       0.25   \n",
       "Indonesia                    2019                       0.50   \n",
       "Ireland                      2019                       0.75   \n",
       "Israel                       2019                       0.25   \n",
       "Italy                        2019                       0.00   \n",
       "Japan                        2019                       0.50   \n",
       "Korea                        2019                       0.50   \n",
       "Latvia                       2019                       0.00   \n",
       "Lithuania                    2019                       0.00   \n",
       "Luxembourg                   2019                       0.00   \n",
       "Mexico                       2019                       0.50   \n",
       "Netherlands                  2019                       0.00   \n",
       "New Zealand                  2019                       0.25   \n",
       "Norway                       2019                       0.00   \n",
       "Poland                       2019                       0.50   \n",
       "Portugal                     2019                       0.00   \n",
       "Russia                       2019                       0.00   \n",
       "Slovak Republic              2019                       0.00   \n",
       "Slovenia                     2019                       0.00   \n",
       "South Africa                 2019                       0.00   \n",
       "Spain                        2019                       0.00   \n",
       "Sweden                       2019                       0.00   \n",
       "Switzerland                  2019                       0.00   \n",
       "Turkey                       2019                       0.00   \n",
       "United Kingdom               2019                       0.75   \n",
       "United States                2019                       0.00   \n",
       "\n",
       "                                   Violence Against Women Practices  \n",
       "Country                      Year                                    \n",
       "Australia                    2019                              16.9  \n",
       "Austria                      2019                              13.0  \n",
       "Belgium                      2019                              24.0  \n",
       "Brazil                       2019                              33.5  \n",
       "Canada                       2019                               1.9  \n",
       "Chile                        2019                               6.7  \n",
       "China (People's Republic of) 2019                               NaN  \n",
       "Colombia                     2019                              37.4  \n",
       "Czech Republic               2019                              21.0  \n",
       "Denmark                      2019                              32.0  \n",
       "Estonia                      2019                              20.0  \n",
       "Finland                      2019                              30.0  \n",
       "France                       2019                              26.0  \n",
       "Germany                      2019                              22.0  \n",
       "Greece                       2019                              19.0  \n",
       "Hungary                      2019                              21.0  \n",
       "Iceland                      2019                              22.4  \n",
       "India                        2019                              28.7  \n",
       "Indonesia                    2019                              18.3  \n",
       "Ireland                      2019                              15.0  \n",
       "Israel                       2019                               NaN  \n",
       "Italy                        2019                              19.0  \n",
       "Japan                        2019                              15.4  \n",
       "Korea                        2019                              16.5  \n",
       "Latvia                       2019                              32.0  \n",
       "Lithuania                    2019                              24.0  \n",
       "Luxembourg                   2019                              22.0  \n",
       "Mexico                       2019                              14.1  \n",
       "Netherlands                  2019                              25.0  \n",
       "New Zealand                  2019                              35.0  \n",
       "Norway                       2019                              27.0  \n",
       "Poland                       2019                              13.0  \n",
       "Portugal                     2019                              19.0  \n",
       "Russia                       2019                              19.6  \n",
       "Slovak Republic              2019                              23.0  \n",
       "Slovenia                     2019                              13.0  \n",
       "South Africa                 2019                              20.6  \n",
       "Spain                        2019                              13.0  \n",
       "Sweden                       2019                              28.0  \n",
       "Switzerland                  2019                               9.8  \n",
       "Turkey                       2019                              38.0  \n",
       "United Kingdom               2019                              29.0  \n",
       "United States                2019                              35.6  "
      ],
      "text/html": "<div>\n<style scoped>\n    .dataframe tbody tr th:only-of-type {\n        vertical-align: middle;\n    }\n\n    .dataframe tbody tr th {\n        vertical-align: top;\n    }\n\n    .dataframe thead th {\n        text-align: right;\n    }\n</style>\n<table border=\"1\" class=\"dataframe\">\n  <thead>\n    <tr style=\"text-align: right;\">\n      <th></th>\n      <th></th>\n      <th>Female share of seats in national parliaments</th>\n      <th>Female share of seats on boards of the largest publicly listed companies</th>\n      <th>Length of maternity leave</th>\n      <th>Share of female managers</th>\n      <th>Access to Financial Services Law</th>\n      <th>Divorce Law</th>\n      <th>Household Responsibilities Attitudes</th>\n      <th>Political Voice Practices</th>\n      <th>Reproductive Autonomy Law</th>\n      <th>Violence Against Women Practices</th>\n    </tr>\n    <tr>\n      <th>Country</th>\n      <th>Year</th>\n      <th></th>\n      <th></th>\n      <th></th>\n      <th></th>\n      <th></th>\n      <th></th>\n      <th></th>\n      <th></th>\n      <th></th>\n      <th></th>\n    </tr>\n  </thead>\n  <tbody>\n    <tr>\n      <th>Australia</th>\n      <th>2019</th>\n      <td>NaN</td>\n      <td>31.2</td>\n      <td>NaN</td>\n      <td>NaN</td>\n      <td>0.00</td>\n      <td>0.00</td>\n      <td>21.1</td>\n      <td>28.7</td>\n      <td>0.00</td>\n      <td>16.9</td>\n    </tr>\n    <tr>\n      <th>Austria</th>\n      <th>2019</th>\n      <td>NaN</td>\n      <td>31.3</td>\n      <td>NaN</td>\n      <td>NaN</td>\n      <td>0.00</td>\n      <td>0.00</td>\n      <td>58.3</td>\n      <td>34.4</td>\n      <td>0.00</td>\n      <td>13.0</td>\n    </tr>\n    <tr>\n      <th>Belgium</th>\n      <th>2019</th>\n      <td>NaN</td>\n      <td>35.9</td>\n      <td>NaN</td>\n      <td>NaN</td>\n      <td>0.00</td>\n      <td>0.00</td>\n      <td>32.0</td>\n      <td>38.0</td>\n      <td>0.00</td>\n      <td>24.0</td>\n    </tr>\n    <tr>\n      <th>Brazil</th>\n      <th>2019</th>\n      <td>NaN</td>\n      <td>11.9</td>\n      <td>NaN</td>\n      <td>NaN</td>\n      <td>0.00</td>\n      <td>0.00</td>\n      <td>60.4</td>\n      <td>10.7</td>\n      <td>0.50</td>\n      <td>33.5</td>\n    </tr>\n    <tr>\n      <th>Canada</th>\n      <th>2019</th>\n      <td>NaN</td>\n      <td>29.1</td>\n      <td>NaN</td>\n      <td>NaN</td>\n      <td>0.00</td>\n      <td>0.00</td>\n      <td>27.7</td>\n      <td>27.0</td>\n      <td>0.00</td>\n      <td>1.9</td>\n    </tr>\n    <tr>\n      <th>Chile</th>\n      <th>2019</th>\n      <td>NaN</td>\n      <td>8.5</td>\n      <td>NaN</td>\n      <td>NaN</td>\n      <td>0.00</td>\n      <td>0.25</td>\n      <td>36.0</td>\n      <td>22.6</td>\n      <td>0.50</td>\n      <td>6.7</td>\n    </tr>\n    <tr>\n      <th>China (People's Republic of)</th>\n      <th>2019</th>\n      <td>NaN</td>\n      <td>11.4</td>\n      <td>NaN</td>\n      <td>NaN</td>\n      <td>0.00</td>\n      <td>0.00</td>\n      <td>42.4</td>\n      <td>24.2</td>\n      <td>0.00</td>\n      <td>NaN</td>\n    </tr>\n    <tr>\n      <th>Colombia</th>\n      <th>2019</th>\n      <td>NaN</td>\n      <td>13.5</td>\n      <td>NaN</td>\n      <td>NaN</td>\n      <td>0.00</td>\n      <td>0.00</td>\n      <td>42.4</td>\n      <td>18.7</td>\n      <td>0.50</td>\n      <td>37.4</td>\n    </tr>\n    <tr>\n      <th>Czech Republic</th>\n      <th>2019</th>\n      <td>NaN</td>\n      <td>18.2</td>\n      <td>NaN</td>\n      <td>NaN</td>\n      <td>0.25</td>\n      <td>0.25</td>\n      <td>32.5</td>\n      <td>22.0</td>\n      <td>0.00</td>\n      <td>21.0</td>\n    </tr>\n    <tr>\n      <th>Denmark</th>\n      <th>2019</th>\n      <td>NaN</td>\n      <td>30.0</td>\n      <td>NaN</td>\n      <td>NaN</td>\n      <td>0.00</td>\n      <td>0.00</td>\n      <td>22.1</td>\n      <td>37.4</td>\n      <td>0.00</td>\n      <td>32.0</td>\n    </tr>\n    <tr>\n      <th>Estonia</th>\n      <th>2019</th>\n      <td>NaN</td>\n      <td>9.4</td>\n      <td>NaN</td>\n      <td>NaN</td>\n      <td>0.00</td>\n      <td>0.00</td>\n      <td>23.9</td>\n      <td>26.7</td>\n      <td>0.00</td>\n      <td>20.0</td>\n    </tr>\n    <tr>\n      <th>Finland</th>\n      <th>2019</th>\n      <td>NaN</td>\n      <td>34.2</td>\n      <td>NaN</td>\n      <td>NaN</td>\n      <td>0.00</td>\n      <td>0.00</td>\n      <td>21.1</td>\n      <td>42.0</td>\n      <td>0.25</td>\n      <td>30.0</td>\n    </tr>\n    <tr>\n      <th>France</th>\n      <th>2019</th>\n      <td>NaN</td>\n      <td>45.2</td>\n      <td>NaN</td>\n      <td>NaN</td>\n      <td>0.00</td>\n      <td>0.00</td>\n      <td>34.7</td>\n      <td>39.0</td>\n      <td>0.00</td>\n      <td>26.0</td>\n    </tr>\n    <tr>\n      <th>Germany</th>\n      <th>2019</th>\n      <td>NaN</td>\n      <td>35.6</td>\n      <td>NaN</td>\n      <td>NaN</td>\n      <td>0.00</td>\n      <td>0.00</td>\n      <td>31.7</td>\n      <td>30.7</td>\n      <td>0.00</td>\n      <td>22.0</td>\n    </tr>\n    <tr>\n      <th>Greece</th>\n      <th>2019</th>\n      <td>NaN</td>\n      <td>10.3</td>\n      <td>NaN</td>\n      <td>NaN</td>\n      <td>0.00</td>\n      <td>0.50</td>\n      <td>NaN</td>\n      <td>18.3</td>\n      <td>0.00</td>\n      <td>19.0</td>\n    </tr>\n    <tr>\n      <th>Hungary</th>\n      <th>2019</th>\n      <td>NaN</td>\n      <td>12.9</td>\n      <td>NaN</td>\n      <td>NaN</td>\n      <td>0.00</td>\n      <td>0.00</td>\n      <td>50.9</td>\n      <td>10.1</td>\n      <td>0.25</td>\n      <td>21.0</td>\n    </tr>\n    <tr>\n      <th>Iceland</th>\n      <th>2019</th>\n      <td>NaN</td>\n      <td>45.9</td>\n      <td>NaN</td>\n      <td>NaN</td>\n      <td>0.00</td>\n      <td>0.00</td>\n      <td>13.0</td>\n      <td>38.1</td>\n      <td>0.25</td>\n      <td>22.4</td>\n    </tr>\n    <tr>\n      <th>India</th>\n      <th>2019</th>\n      <td>NaN</td>\n      <td>15.9</td>\n      <td>NaN</td>\n      <td>NaN</td>\n      <td>0.25</td>\n      <td>0.50</td>\n      <td>75.9</td>\n      <td>11.8</td>\n      <td>0.25</td>\n      <td>28.7</td>\n    </tr>\n    <tr>\n      <th>Indonesia</th>\n      <th>2019</th>\n      <td>NaN</td>\n      <td>10.1</td>\n      <td>NaN</td>\n      <td>NaN</td>\n      <td>0.25</td>\n      <td>0.25</td>\n      <td>NaN</td>\n      <td>19.8</td>\n      <td>0.50</td>\n      <td>18.3</td>\n    </tr>\n    <tr>\n      <th>Ireland</th>\n      <th>2019</th>\n      <td>NaN</td>\n      <td>26.0</td>\n      <td>NaN</td>\n      <td>NaN</td>\n      <td>0.00</td>\n      <td>0.00</td>\n      <td>26.0</td>\n      <td>22.2</td>\n      <td>0.75</td>\n      <td>15.0</td>\n    </tr>\n    <tr>\n      <th>Israel</th>\n      <th>2019</th>\n      <td>NaN</td>\n      <td>21.6</td>\n      <td>NaN</td>\n      <td>NaN</td>\n      <td>0.00</td>\n      <td>0.75</td>\n      <td>47.6</td>\n      <td>27.5</td>\n      <td>0.25</td>\n      <td>NaN</td>\n    </tr>\n    <tr>\n      <th>Italy</th>\n      <th>2019</th>\n      <td>NaN</td>\n      <td>36.1</td>\n      <td>NaN</td>\n      <td>NaN</td>\n      <td>0.25</td>\n      <td>0.00</td>\n      <td>NaN</td>\n      <td>31.0</td>\n      <td>0.00</td>\n      <td>19.0</td>\n    </tr>\n    <tr>\n      <th>Japan</th>\n      <th>2019</th>\n      <td>NaN</td>\n      <td>8.4</td>\n      <td>NaN</td>\n      <td>NaN</td>\n      <td>0.25</td>\n      <td>0.25</td>\n      <td>15.3</td>\n      <td>10.1</td>\n      <td>0.50</td>\n      <td>15.4</td>\n    </tr>\n    <tr>\n      <th>Korea</th>\n      <th>2019</th>\n      <td>NaN</td>\n      <td>3.3</td>\n      <td>NaN</td>\n      <td>NaN</td>\n      <td>0.00</td>\n      <td>0.00</td>\n      <td>55.2</td>\n      <td>17.0</td>\n      <td>0.50</td>\n      <td>16.5</td>\n    </tr>\n    <tr>\n      <th>Latvia</th>\n      <th>2019</th>\n      <td>NaN</td>\n      <td>31.7</td>\n      <td>NaN</td>\n      <td>NaN</td>\n      <td>0.25</td>\n      <td>0.00</td>\n      <td>59.3</td>\n      <td>16.0</td>\n      <td>0.00</td>\n      <td>32.0</td>\n    </tr>\n    <tr>\n      <th>Lithuania</th>\n      <th>2019</th>\n      <td>NaN</td>\n      <td>12.0</td>\n      <td>NaN</td>\n      <td>NaN</td>\n      <td>0.00</td>\n      <td>0.25</td>\n      <td>43.3</td>\n      <td>21.3</td>\n      <td>0.00</td>\n      <td>24.0</td>\n    </tr>\n    <tr>\n      <th>Luxembourg</th>\n      <th>2019</th>\n      <td>NaN</td>\n      <td>13.1</td>\n      <td>NaN</td>\n      <td>NaN</td>\n      <td>0.00</td>\n      <td>0.00</td>\n      <td>NaN</td>\n      <td>28.3</td>\n      <td>0.00</td>\n      <td>22.0</td>\n    </tr>\n    <tr>\n      <th>Mexico</th>\n      <th>2019</th>\n      <td>NaN</td>\n      <td>8.1</td>\n      <td>NaN</td>\n      <td>NaN</td>\n      <td>0.00</td>\n      <td>1.00</td>\n      <td>43.6</td>\n      <td>42.6</td>\n      <td>0.50</td>\n      <td>14.1</td>\n    </tr>\n    <tr>\n      <th>Netherlands</th>\n      <th>2019</th>\n      <td>NaN</td>\n      <td>34.2</td>\n      <td>NaN</td>\n      <td>NaN</td>\n      <td>0.00</td>\n      <td>0.25</td>\n      <td>14.9</td>\n      <td>36.0</td>\n      <td>0.00</td>\n      <td>25.0</td>\n    </tr>\n    <tr>\n      <th>New Zealand</th>\n      <th>2019</th>\n      <td>NaN</td>\n      <td>38.2</td>\n      <td>NaN</td>\n      <td>NaN</td>\n      <td>0.00</td>\n      <td>0.00</td>\n      <td>21.4</td>\n      <td>38.3</td>\n      <td>0.25</td>\n      <td>35.0</td>\n    </tr>\n    <tr>\n      <th>Norway</th>\n      <th>2019</th>\n      <td>NaN</td>\n      <td>40.2</td>\n      <td>NaN</td>\n      <td>NaN</td>\n      <td>0.00</td>\n      <td>0.25</td>\n      <td>15.2</td>\n      <td>41.4</td>\n      <td>0.00</td>\n      <td>27.0</td>\n    </tr>\n    <tr>\n      <th>Poland</th>\n      <th>2019</th>\n      <td>NaN</td>\n      <td>23.5</td>\n      <td>NaN</td>\n      <td>NaN</td>\n      <td>0.00</td>\n      <td>0.00</td>\n      <td>58.7</td>\n      <td>28.0</td>\n      <td>0.50</td>\n      <td>13.0</td>\n    </tr>\n    <tr>\n      <th>Portugal</th>\n      <th>2019</th>\n      <td>NaN</td>\n      <td>24.6</td>\n      <td>NaN</td>\n      <td>NaN</td>\n      <td>0.00</td>\n      <td>0.00</td>\n      <td>57.3</td>\n      <td>34.8</td>\n      <td>0.00</td>\n      <td>19.0</td>\n    </tr>\n    <tr>\n      <th>Russia</th>\n      <th>2019</th>\n      <td>NaN</td>\n      <td>10.6</td>\n      <td>NaN</td>\n      <td>NaN</td>\n      <td>0.00</td>\n      <td>0.00</td>\n      <td>38.8</td>\n      <td>15.8</td>\n      <td>0.00</td>\n      <td>19.6</td>\n    </tr>\n    <tr>\n      <th>Slovak Republic</th>\n      <th>2019</th>\n      <td>NaN</td>\n      <td>29.1</td>\n      <td>NaN</td>\n      <td>NaN</td>\n      <td>0.00</td>\n      <td>0.00</td>\n      <td>33.4</td>\n      <td>20.0</td>\n      <td>0.00</td>\n      <td>23.0</td>\n    </tr>\n    <tr>\n      <th>Slovenia</th>\n      <th>2019</th>\n      <td>NaN</td>\n      <td>24.6</td>\n      <td>NaN</td>\n      <td>NaN</td>\n      <td>0.00</td>\n      <td>0.00</td>\n      <td>27.2</td>\n      <td>36.7</td>\n      <td>0.00</td>\n      <td>13.0</td>\n    </tr>\n    <tr>\n      <th>South Africa</th>\n      <th>2019</th>\n      <td>NaN</td>\n      <td>27.7</td>\n      <td>NaN</td>\n      <td>NaN</td>\n      <td>0.00</td>\n      <td>0.25</td>\n      <td>53.8</td>\n      <td>42.1</td>\n      <td>0.00</td>\n      <td>20.6</td>\n    </tr>\n    <tr>\n      <th>Spain</th>\n      <th>2019</th>\n      <td>NaN</td>\n      <td>26.4</td>\n      <td>NaN</td>\n      <td>NaN</td>\n      <td>0.00</td>\n      <td>0.00</td>\n      <td>27.4</td>\n      <td>39.1</td>\n      <td>0.00</td>\n      <td>13.0</td>\n    </tr>\n    <tr>\n      <th>Sweden</th>\n      <th>2019</th>\n      <td>NaN</td>\n      <td>37.5</td>\n      <td>NaN</td>\n      <td>NaN</td>\n      <td>0.00</td>\n      <td>0.00</td>\n      <td>32.0</td>\n      <td>43.6</td>\n      <td>0.00</td>\n      <td>28.0</td>\n    </tr>\n    <tr>\n      <th>Switzerland</th>\n      <th>2019</th>\n      <td>NaN</td>\n      <td>24.9</td>\n      <td>NaN</td>\n      <td>NaN</td>\n      <td>0.00</td>\n      <td>0.00</td>\n      <td>42.7</td>\n      <td>32.5</td>\n      <td>0.00</td>\n      <td>9.8</td>\n    </tr>\n    <tr>\n      <th>Turkey</th>\n      <th>2019</th>\n      <td>NaN</td>\n      <td>18.1</td>\n      <td>NaN</td>\n      <td>NaN</td>\n      <td>0.25</td>\n      <td>0.25</td>\n      <td>65.9</td>\n      <td>14.6</td>\n      <td>0.00</td>\n      <td>38.0</td>\n    </tr>\n    <tr>\n      <th>United Kingdom</th>\n      <th>2019</th>\n      <td>NaN</td>\n      <td>32.6</td>\n      <td>NaN</td>\n      <td>NaN</td>\n      <td>0.00</td>\n      <td>0.00</td>\n      <td>30.6</td>\n      <td>32.0</td>\n      <td>0.75</td>\n      <td>29.0</td>\n    </tr>\n    <tr>\n      <th>United States</th>\n      <th>2019</th>\n      <td>NaN</td>\n      <td>26.1</td>\n      <td>NaN</td>\n      <td>NaN</td>\n      <td>0.00</td>\n      <td>0.00</td>\n      <td>24.9</td>\n      <td>19.4</td>\n      <td>0.00</td>\n      <td>35.6</td>\n    </tr>\n  </tbody>\n</table>\n</div>"
     },
     "metadata": {},
     "execution_count": 40
    }
   ],
   "source": [
    "df_join"
   ]
  },
  {
   "source": [
    "### Part 1: Descriptive Analysis to Measure Correlation of Key Gender Parity Indicators to Representation of Women in Politics"
   ],
   "cell_type": "markdown",
   "metadata": {}
  },
  {
   "cell_type": "code",
   "execution_count": null,
   "metadata": {},
   "outputs": [],
   "source": [
    "#Standard Linear Regression"
   ]
  },
  {
   "cell_type": "code",
   "execution_count": null,
   "metadata": {},
   "outputs": [],
   "source": [
    "#Create stratified sample/training/testing split"
   ]
  },
  {
   "cell_type": "code",
   "execution_count": null,
   "metadata": {},
   "outputs": [],
   "source": [
    "#measure accuracy, RMSE, etc."
   ]
  },
  {
   "source": [
    "### Part 2: Linear Regression Model to Predict Representation of Women in Politics"
   ],
   "cell_type": "markdown",
   "metadata": {}
  },
  {
   "cell_type": "code",
   "execution_count": null,
   "metadata": {},
   "outputs": [],
   "source": [
    "#LASSO (to determine if certain features should be excluded)"
   ]
  },
  {
   "cell_type": "code",
   "execution_count": null,
   "metadata": {},
   "outputs": [],
   "source": [
    "#repeat other steps"
   ]
  }
 ]
}